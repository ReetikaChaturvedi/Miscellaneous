{
 "cells": [
  {
   "cell_type": "markdown",
   "metadata": {},
   "source": [
    "# Week 4 Assignment"
   ]
  },
  {
   "cell_type": "markdown",
   "metadata": {},
   "source": [
    "## Assignment Details\n",
    "The `1962_2006_walmart_store_openings.csv` file provided with the assignment contains information on Walmart store openings between the years 1962-2006. Some explanations on the meaning of variable names:\n",
    "\n",
    "- `storenum`: the unique store number\t\n",
    "- `OPENDATE`: the date the original store was opened\n",
    "- `date_super`: the date the store became a super store\n",
    "- `conversion`: whether the original store was converted to a super store\n",
    "- `STRCITY`: the name of the city where the store is located\n",
    "- `STRSTATE`: the state where the store is located\n",
    "\n",
    "When answering the questions below, please make sure to examine the dataset carefully and understand if it needs further data aggregation, cleaning, or wrangling before you calcualte the answers to your questions."
   ]
  },
  {
   "cell_type": "markdown",
   "metadata": {},
   "source": [
    "#### [GRADED  TASK 1]\n",
    "Import the dataset and ensure all columns of data are properly read into an appropriate data structure."
   ]
  },
  {
   "cell_type": "code",
   "execution_count": 1,
   "metadata": {},
   "outputs": [],
   "source": [
    "# import libraries\n",
    "import warnings\n",
    "import pandas as pd\n",
    "import numpy as np\n",
    "import matplotlib.pyplot as plt\n",
    "import seaborn as sns\n",
    "%matplotlib inline"
   ]
  },
  {
   "cell_type": "code",
   "execution_count": 2,
   "metadata": {},
   "outputs": [
    {
     "name": "stdout",
     "output_type": "stream",
     "text": [
      "The columns of dataframe are:'\n",
      "'Index(['storenum', 'OPENDATE', 'date_super', 'conversion', 'st', 'county',\n",
      "       'STREETADDR', 'STRCITY', 'STRSTATE', 'ZIPCODE', 'type_store', 'LAT',\n",
      "       'LON', 'MONTH', 'DAY', 'YEAR'],\n",
      "      dtype='object')\n",
      "-------------------------------------------------------------------------------------\n",
      "The shape of dataframe is:'\n",
      "'(2992, 16)\n",
      "-------------------------------------------------------------------------------------\n",
      "<class 'pandas.core.frame.DataFrame'>\n",
      "RangeIndex: 2992 entries, 0 to 2991\n",
      "Data columns (total 16 columns):\n",
      " #   Column      Non-Null Count  Dtype  \n",
      "---  ------      --------------  -----  \n",
      " 0   storenum    2992 non-null   int64  \n",
      " 1   OPENDATE    2992 non-null   object \n",
      " 2   date_super  1946 non-null   object \n",
      " 3   conversion  1946 non-null   float64\n",
      " 4   st          2992 non-null   int64  \n",
      " 5   county      2992 non-null   int64  \n",
      " 6   STREETADDR  2992 non-null   object \n",
      " 7   STRCITY     2992 non-null   object \n",
      " 8   STRSTATE    2992 non-null   object \n",
      " 9   ZIPCODE     2992 non-null   int64  \n",
      " 10  type_store  2992 non-null   object \n",
      " 11  LAT         2992 non-null   float64\n",
      " 12  LON         2992 non-null   float64\n",
      " 13  MONTH       2992 non-null   int64  \n",
      " 14  DAY         2992 non-null   int64  \n",
      " 15  YEAR        2992 non-null   int64  \n",
      "dtypes: float64(3), int64(7), object(6)\n",
      "memory usage: 374.1+ KB\n",
      "None\n",
      "-------------------------------------------------------------------------------------\n",
      "Brief view of dataframe:'\n",
      "'   storenum OPENDATE date_super  conversion  st  county  \\\n",
      "0         1   7/1/62     3/1/97         1.0   5       7   \n",
      "1         2   8/1/64     3/1/96         1.0   5       9   \n",
      "2         4   8/1/65     3/1/02         1.0   5       7   \n",
      "3         8  10/1/67     3/1/93         1.0   5      29   \n",
      "4         7  10/1/67        NaN         NaN   5     119   \n",
      "5        10   7/1/68     3/1/98         1.0  40      21   \n",
      "6        13  11/1/68     3/1/96         1.0  29      97   \n",
      "7        12   7/1/68     3/1/94         1.0  40     131   \n",
      "8        11   3/1/68    2/20/02         1.0   5       5   \n",
      "9         9   3/1/68     3/1/00         1.0  29     143   \n",
      "\n",
      "               STREETADDR            STRCITY STRSTATE  ZIPCODE   type_store  \\\n",
      "0        2110 WEST WALNUT             Rogers       AR    72756  Supercenter   \n",
      "1        1417 HWY 62/65 N           Harrison       AR    72601  Supercenter   \n",
      "2       2901 HWY 412 EAST     Siloam Springs       AR    72761  Supercenter   \n",
      "3   1621 NORTH BUSINESS 9          Morrilton       AR    72110  Supercenter   \n",
      "4  3801 CAMP ROBINSON RD.  North Little Rock       AR    72118     Wal-Mart   \n",
      "5     2020 SOUTH MUSKOGEE          Tahlequah       OK    74464  Supercenter   \n",
      "6          2705 GRAND AVE           Carthage       MO    64836  Supercenter   \n",
      "7    1500 LYNN RIGGS BLVD          Claremore       OK    74017  Supercenter   \n",
      "8       65 WAL-MART DRIVE      Mountain Home       AR    72653  Supercenter   \n",
      "9         1303 SOUTH MAIN           Sikeston       MO    63801  Supercenter   \n",
      "\n",
      "         LAT       LON  MONTH  DAY  YEAR  \n",
      "0  36.342235 -94.07141      7    1  1962  \n",
      "1  36.236984 -93.09345      8    1  1964  \n",
      "2  36.179905 -94.50208      8    1  1965  \n",
      "3  35.156491 -92.75858     10    1  1967  \n",
      "4  34.813269 -92.30229     10    1  1967  \n",
      "5  35.923658 -94.97185      7    1  1968  \n",
      "6  37.168985 -94.31164     11    1  1968  \n",
      "7  36.327143 -95.61192      7    1  1968  \n",
      "8  36.329026 -92.35781      3    1  1968  \n",
      "9  36.891163 -89.58355      3    1  1968  \n"
     ]
    }
   ],
   "source": [
    "# Your answer to Graded Task 1 here:\n",
    "walmart_data = pd.read_csv('1962_2006_walmart_store_openings.csv')\n",
    "\n",
    "print(\"The columns of dataframe are:'\\n'{col}\".format(col=walmart_data.columns))\n",
    "print(\"-------------------------------------------------------------------------------------\")\n",
    "print(\"The shape of dataframe is:'\\n'{sh}\".format(sh=walmart_data.shape))\n",
    "print(\"-------------------------------------------------------------------------------------\")\n",
    "print(walmart_data.info())\n",
    "print(\"-------------------------------------------------------------------------------------\")\n",
    "print(\"Brief view of dataframe:'\\n'{vie}\".format(vie=walmart_data.head(10)))"
   ]
  },
  {
   "cell_type": "markdown",
   "metadata": {},
   "source": [
    "#### [GRADED  TASK 2]\n",
    "\n",
    "- which state has the `most` number of Walmart super stores?\n",
    "- which city has the `most` Walmart store (super stores and regular stores combined)?"
   ]
  },
  {
   "cell_type": "code",
   "execution_count": 3,
   "metadata": {},
   "outputs": [
    {
     "name": "stdout",
     "output_type": "stream",
     "text": [
      "State that has most number of Walmart Super Store is:\n"
     ]
    },
    {
     "data": {
      "text/plain": [
       "Super Store Count    253\n",
       "Name: TX, dtype: int64"
      ]
     },
     "execution_count": 3,
     "metadata": {},
     "output_type": "execute_result"
    }
   ],
   "source": [
    "# Your answer to Graded Task 2 here:\n",
    "# PART A\n",
    "state_df = walmart_data[walmart_data['type_store']=='Supercenter']\n",
    "print(\"State that has most number of Walmart Super Store is:\")\n",
    "state_df.groupby('STRSTATE').STRSTATE.agg(\"count\").to_frame('Super Store Count').sort_values('Super Store Count',ascending=False).iloc[0]"
   ]
  },
  {
   "cell_type": "code",
   "execution_count": 4,
   "metadata": {},
   "outputs": [
    {
     "name": "stdout",
     "output_type": "stream",
     "text": [
      "City that has most number of Walmart Store (super store + regular store) is:\n"
     ]
    },
    {
     "data": {
      "text/plain": [
       "Walmart Store Count    14\n",
       "Name: Houston, dtype: int64"
      ]
     },
     "execution_count": 4,
     "metadata": {},
     "output_type": "execute_result"
    }
   ],
   "source": [
    "# PART B\n",
    "print(\"City that has most number of Walmart Store (super store + regular store) is:\")\n",
    "walmart_data.groupby('STRCITY').STRCITY.agg(\"count\").to_frame('Walmart Store Count').sort_values('Walmart Store Count',ascending=False).iloc[0]"
   ]
  },
  {
   "cell_type": "markdown",
   "metadata": {},
   "source": [
    "#### [GRADED  TASK 3]\n",
    "Write a function that takes as a inputs:\n",
    "\n",
    "1. `OPENDATE` column (as a pandas Data Series)\n",
    "2. `STRSTATE` columns (as a pandas Data Series)\n",
    "3. a state abbreviaton (e.g. `AR`)\n",
    "\n",
    "and, then, the function calcualtes the `cumulative` number of stores over time opened in that state"
   ]
  },
  {
   "cell_type": "code",
   "execution_count": 5,
   "metadata": {},
   "outputs": [
    {
     "name": "stdout",
     "output_type": "stream",
     "text": [
      "Cumulative store opened in the WY over time:'\n",
      "'  STRSTATE   OPENDATE  StoreCount\n",
      "0       WY 1989-12-30           1\n",
      "1       WY 1990-04-02           2\n",
      "2       WY 1990-06-27           3\n",
      "3       WY 1990-08-01           5\n",
      "4       WY 1990-10-29           6\n",
      "5       WY 1991-01-30           7\n",
      "6       WY 1991-12-31           8\n",
      "7       WY 1992-04-01           9\n"
     ]
    },
    {
     "name": "stderr",
     "output_type": "stream",
     "text": [
      "C:\\Data_Science_Installations\\Anaconda\\lib\\site-packages\\ipykernel_launcher.py:6: SettingWithCopyWarning: \n",
      "A value is trying to be set on a copy of a slice from a DataFrame.\n",
      "Try using .loc[row_indexer,col_indexer] = value instead\n",
      "\n",
      "See the caveats in the documentation: https://pandas.pydata.org/pandas-docs/stable/user_guide/indexing.html#returning-a-view-versus-a-copy\n",
      "  \n"
     ]
    }
   ],
   "source": [
    "# Your answer to Graded Task 3 here:\n",
    "def cumulativeStoreCount(stateSeries, dateSeries,s):\n",
    "    df= pd.concat([stateSeries,dateSeries], axis=1)\n",
    "    df['OPENDATE'] = pd.to_datetime(df['OPENDATE'], format='%m/%d/%y')\n",
    "    stateDF=df[df['STRSTATE']==s]\n",
    "    stateDF['StoreCount']=1\n",
    "    stateDF=stateDF.groupby(by=['STRSTATE','OPENDATE'],sort=True).sum().groupby(level=[0]).cumsum(skipna=True).reset_index()\n",
    "    return stateDF\n",
    "\n",
    "print(\"Cumulative store opened in the {state} over time:'\\n'{cum}\".format(cum=cumulativeStoreCount(walmart_data['STRSTATE'],\n",
    "                                                                                                   walmart_data['OPENDATE'],\n",
    "                                                                                                   'WY'),\n",
    "                                                                                                   state='WY'))"
   ]
  },
  {
   "cell_type": "markdown",
   "metadata": {},
   "source": [
    "#### [GRADED  TASK 4]\n",
    "Using any of the three plotting libraries we discussed (`matplotlib`, `seaborn`, or `bokeh`), plot the time series of cumulative store count over time in the state of Texas (TX)."
   ]
  },
  {
   "cell_type": "code",
   "execution_count": 7,
   "metadata": {},
   "outputs": [
    {
     "name": "stderr",
     "output_type": "stream",
     "text": [
      "C:\\Data_Science_Installations\\Anaconda\\lib\\site-packages\\ipykernel_launcher.py:4: SettingWithCopyWarning: \n",
      "A value is trying to be set on a copy of a slice from a DataFrame.\n",
      "Try using .loc[row_indexer,col_indexer] = value instead\n",
      "\n",
      "See the caveats in the documentation: https://pandas.pydata.org/pandas-docs/stable/user_guide/indexing.html#returning-a-view-versus-a-copy\n",
      "  after removing the cwd from sys.path.\n"
     ]
    },
    {
     "data": {
      "text/plain": [
       "Text(0.5, 1.0, 'TIme series of cumulative store count of Texas over time')"
      ]
     },
     "execution_count": 7,
     "metadata": {},
     "output_type": "execute_result"
    },
    {
     "data": {
      "image/png": "[encoded data removed]",
      "text/plain": [
       "<Figure size 432x288 with 1 Axes>"
      ]
     },
     "metadata": {
      "needs_background": "light"
     },
     "output_type": "display_data"
    }
   ],
   "source": [
    "# Your answer to Graded Task 4 here:\n",
    "df= pd.concat([walmart_data['STRSTATE'],walmart_data['YEAR']], axis=1)\n",
    "stateDF=df[df['STRSTATE']=='TX']\n",
    "stateDF['StoreCount']=1\n",
    "stateDF=stateDF.groupby(by=['STRSTATE','YEAR'],sort=True).sum().groupby(level=[0]).cumsum(skipna=True).reset_index()\n",
    "sns.lineplot(x='YEAR',y='StoreCount', data=stateDF)\n",
    "plt.title(\"TIme series of cumulative store count of Texas over time\")"
   ]
  },
  {
   "cell_type": "markdown",
   "metadata": {},
   "source": [
    "#### [GRADED  TASK 5]\n",
    "Using any of the three plotting libraries we discussed (`matplotlib`, `seaborn`, or `bokeh`), plot a grouped bar chart that shows the `total` number of Walmart stores in each of the states that directly border the state of Nevada (NV)."
   ]
  },
  {
   "cell_type": "code",
   "execution_count": 8,
   "metadata": {},
   "outputs": [
    {
     "data": {
      "image/png": "[encoded data removed]",
      "text/plain": [
       "<Figure size 720x504 with 1 Axes>"
      ]
     },
     "metadata": {
      "needs_background": "light"
     },
     "output_type": "display_data"
    }
   ],
   "source": [
    "# Your asnwer to Graded Task 5 here:\n",
    "list_of_values = ['OR','CA','AR','UT','ID']\n",
    "nvDF = walmart_data[walmart_data['STRSTATE'].isin(list_of_values)]\n",
    "plt.figure(figsize=(10,7))\n",
    "plt.title(\"Count of types of stores for neighbor states of NV  \",fontsize=20, ha='center') \n",
    "plt.xlabel(\"States\", labelpad=15)\n",
    "plt.ylabel(\"Count\", labelpad= 15)\n",
    "plt.grid( b = False, axis ='both')\n",
    "ax = sns.countplot(x = 'STRSTATE',data=nvDF ,hue = 'type_store', palette='rainbow')\n",
    "ax.set_yticks(np.arange(0, 250, 50))\n",
    "sns.despine()\n",
    "for p in ax.patches:\n",
    "        ax.annotate('{:d}'.format(p.get_height()), (p.get_x()+0.1, p.get_height()+10))"
   ]
  },
  {
   "cell_type": "code",
   "execution_count": null,
   "metadata": {},
   "outputs": [],
   "source": []
  }
 ],
 "metadata": {
  "kernelspec": {
   "display_name": "Python 3",
   "language": "python",
   "name": "python3"
  },
  "language_info": {
   "codemirror_mode": {
    "name": "ipython",
    "version": 3
   },
   "file_extension": ".py",
   "mimetype": "text/x-python",
   "name": "python",
   "nbconvert_exporter": "python",
   "pygments_lexer": "ipython3",
   "version": "3.7.9"
  }
 },
 "nbformat": 4,
 "nbformat_minor": 4
}
